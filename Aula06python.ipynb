{
  "nbformat": 4,
  "nbformat_minor": 0,
  "metadata": {
    "colab": {
      "provenance": [],
      "authorship_tag": "ABX9TyNNm0cgAfNxCPRqq0k0/0nd",
      "include_colab_link": true
    },
    "kernelspec": {
      "name": "python3",
      "display_name": "Python 3"
    },
    "language_info": {
      "name": "python"
    }
  },
  "cells": [
    {
      "cell_type": "markdown",
      "metadata": {
        "id": "view-in-github",
        "colab_type": "text"
      },
      "source": [
        "<a href=\"https://colab.research.google.com/github/Rafael90900/Aula-06-python/blob/main/Aula06python.ipynb\" target=\"_parent\"><img src=\"https://colab.research.google.com/assets/colab-badge.svg\" alt=\"Open In Colab\"/></a>"
      ]
    },
    {
      "cell_type": "code",
      "execution_count": null,
      "metadata": {
        "id": "fDRvup_swNlU"
      },
      "outputs": [],
      "source": [
        "import random\n",
        "\n",
        "num = random.randrange(101)\n",
        "minimo = 0\n",
        "maximo = 100\n",
        "pitaco = int(input(f'Chute um numero entre {minimo} e {maximo}: '))\n",
        "cont = 1\n",
        "\n",
        "while(num != pitaco):\n",
        "  if(pitaco > num):\n",
        "    maximo = pitaco \n",
        "  else:\n",
        "    minimo = pitaco\n",
        "  pitaco = int(input(f'Chute um numero entre {minimo} e {maximo}: ')) \n",
        "  cont+=1\n",
        "\n",
        "  print(f'ACERTOU, DEESGRAÇADO!!')"
      ]
    },
    {
      "cell_type": "code",
      "source": [
        "#Declaração da função\n",
        "def primeiraFuncao():\n",
        "  print('Minha primeira função, ó!')\n",
        "\n",
        "#chamando a função\n",
        "primeiraFuncao()\n"
      ],
      "metadata": {
        "colab": {
          "base_uri": "https://localhost:8080/"
        },
        "id": "D_TTxo2O3FU6",
        "outputId": "c90e601d-6387-48c3-8489-160ccb7e5f2b"
      },
      "execution_count": null,
      "outputs": [
        {
          "output_type": "stream",
          "name": "stdout",
          "text": [
            "Minha primeira função, ó!\n"
          ]
        }
      ]
    },
    {
      "cell_type": "code",
      "source": [
        "def pronomeTratam(pronome):\n",
        "  print(pronome,\" Rafael\")"
      ],
      "metadata": {
        "id": "k8-Yf73K4yz9"
      },
      "execution_count": null,
      "outputs": []
    },
    {
      "cell_type": "code",
      "source": [
        "pronomeTratam('Doutor')\n",
        "pronomeTratam('Limo')\n",
        "pronomeTratam('Seu')"
      ],
      "metadata": {
        "colab": {
          "base_uri": "https://localhost:8080/"
        },
        "id": "GPMKKfIi5y-6",
        "outputId": "c916c3bf-088d-474b-a855-11febb1d6dd0"
      },
      "execution_count": null,
      "outputs": [
        {
          "output_type": "stream",
          "name": "stdout",
          "text": [
            "Doutor  Rafael\n",
            "Limo  Rafael\n",
            "Seu  Rafael\n"
          ]
        }
      ]
    },
    {
      "cell_type": "code",
      "source": [
        "#Uma função deve ser chamada como o número certinho\n",
        "def boasVindas(nome, cargo):\n",
        "  print('Olá, '+ cargo + ' '+ nome)"
      ],
      "metadata": {
        "id": "pxciRibC6osA"
      },
      "execution_count": null,
      "outputs": []
    },
    {
      "cell_type": "code",
      "source": [
        "boasVindas('Amaralina', 'engenheira')\n",
        "boasVindas('Jorge', 'Carimbador')\n",
        "boasVindas('Maria', 'Tenente')"
      ],
      "metadata": {
        "colab": {
          "base_uri": "https://localhost:8080/"
        },
        "id": "44DVwpw97ezQ",
        "outputId": "c2a181ae-3f2e-4bef-ad39-7cf58a43f562"
      },
      "execution_count": null,
      "outputs": [
        {
          "output_type": "stream",
          "name": "stdout",
          "text": [
            "Olá, engenheira Amaralina\n",
            "Olá, Carimbador Jorge\n",
            "Olá, Tenente Maria\n"
          ]
        }
      ]
    },
    {
      "cell_type": "code",
      "source": [
        "def somaNotas(*notas):\n",
        "  soma = 0\n",
        "  for n in notas:\n",
        "    soma += n\n",
        "  print(soma)"
      ],
      "metadata": {
        "id": "2Ad5RNpe8DT5"
      },
      "execution_count": null,
      "outputs": []
    },
    {
      "cell_type": "code",
      "source": [
        "def somaNotas(*notas):\n",
        "  soma = 0\n",
        "  for n in notas:\n",
        "    soma += n\n",
        "  print(soma / len(notas))"
      ],
      "metadata": {
        "id": "if83zP8F_nap"
      },
      "execution_count": null,
      "outputs": []
    },
    {
      "cell_type": "code",
      "source": [
        "somaNotas(10, 8, 9,5)"
      ],
      "metadata": {
        "colab": {
          "base_uri": "https://localhost:8080/"
        },
        "id": "PrA3rKiB9zVd",
        "outputId": "aefc95fa-dd1d-4bb4-96a1-3cf531b107c2"
      },
      "execution_count": null,
      "outputs": [
        {
          "output_type": "stream",
          "name": "stdout",
          "text": [
            "8.0\n"
          ]
        }
      ]
    },
    {
      "cell_type": "code",
      "source": [
        "#Valor do parametro padrão\n",
        "def nacionlidade(country = 'Cuba'):\n",
        "  print('Eu nasci em: '+ country)"
      ],
      "metadata": {
        "id": "XCqrIEujAVdY"
      },
      "execution_count": null,
      "outputs": []
    },
    {
      "cell_type": "code",
      "source": [
        "nacionlidade('Brasil')\n",
        "nacionlidade('França')\n",
        "nacionlidade()\n",
        "nacionlidade('Colombia')\n"
      ],
      "metadata": {
        "colab": {
          "base_uri": "https://localhost:8080/"
        },
        "id": "T1bUFVHGAy_F",
        "outputId": "a5687e73-7565-4c87-e7b2-a151b5efc8a5"
      },
      "execution_count": null,
      "outputs": [
        {
          "output_type": "stream",
          "name": "stdout",
          "text": [
            "Eu nasci em: Brasil\n",
            "Eu nasci em: França\n",
            "Eu nasci em: Cuba\n",
            "Eu nasci em: Colombia\n"
          ]
        }
      ]
    },
    {
      "cell_type": "code",
      "source": [
        "def imc(peso, altura):\n",
        "  return peso/altura**2"
      ],
      "metadata": {
        "id": "ztuGXRSoB0Fw"
      },
      "execution_count": null,
      "outputs": []
    },
    {
      "cell_type": "code",
      "source": [
        "def situacaoPeso(imc):\n",
        "  if(imc < 18.5):\n",
        "    print('Abaixo do peso normal')\n",
        "  elif(imc < 24.9):\n",
        "    print('Peso normal')\n",
        "  else:\n",
        "    print('Obesidade')"
      ],
      "metadata": {
        "id": "k7RpBorpDS2w"
      },
      "execution_count": null,
      "outputs": []
    },
    {
      "cell_type": "code",
      "source": [
        "situacaoPeso(imc(69,1.79))"
      ],
      "metadata": {
        "colab": {
          "base_uri": "https://localhost:8080/"
        },
        "id": "ICiZ9HIWELKH",
        "outputId": "dc72bf5c-926f-4f27-9c25-f37b7c8c0d5f"
      },
      "execution_count": null,
      "outputs": [
        {
          "output_type": "stream",
          "name": "stdout",
          "text": [
            "Peso normal\n"
          ]
        }
      ]
    },
    {
      "cell_type": "code",
      "source": [
        "#Soma \n",
        "def soma(a, b):\n",
        "  return a + b\n",
        "soma(6,4)\n",
        "#Subtração\n",
        "def subtracao(a, b):\n",
        "  return a - b\n",
        "#Divisão\n",
        "def soma(a, b):\n",
        "  return a / b\n",
        "#Multiplicação\n",
        "def soma(a, b):\n",
        "  return a * b"
      ],
      "metadata": {
        "id": "ej145zdLEplf"
      },
      "execution_count": null,
      "outputs": []
    },
    {
      "cell_type": "code",
      "source": [
        "#Soma \n",
        "def soma(a, b):\n",
        "  return a + b\n",
        " \n",
        "soma(6,4)"
      ],
      "metadata": {
        "colab": {
          "base_uri": "https://localhost:8080/"
        },
        "id": "aCOKkXcHH1Lu",
        "outputId": "401cab1c-902e-47dc-95c4-11c2d48bf280"
      },
      "execution_count": null,
      "outputs": [
        {
          "output_type": "execute_result",
          "data": {
            "text/plain": [
              "10"
            ]
          },
          "metadata": {},
          "execution_count": 37
        }
      ]
    }
  ]
}